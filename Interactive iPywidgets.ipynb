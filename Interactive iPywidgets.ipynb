{
 "cells": [
  {
   "cell_type": "markdown",
   "metadata": {},
   "source": [
    "[Index](abc.ipynb) - [Back](abc.ipynb) - [Next](abc.ipynb) \n",
    "\n",
    "# Interactively Graph Future Annunity Value"
   ]
  },
  {
   "cell_type": "code",
   "execution_count": null,
   "metadata": {},
   "outputs": [],
   "source": [
    "pip install pandas\n",
    "pip install matplotlib"
   ]
  },
  {
   "cell_type": "code",
   "execution_count": 1,
   "metadata": {},
   "outputs": [],
   "source": [
    "from IPython.display import display\n",
    "from ipywidgets import interact, interactive, fixed, interact_manual\n",
    "import ipywidgets as widgets\n",
    "\n",
    "import pandas as pd\n",
    "import numpy as np\n",
    "import matplotlib.pyplot as plt\n",
    "\n",
    "import datetime as date"
   ]
  },
  {
   "cell_type": "markdown",
   "metadata": {},
   "source": [
    "https://docs.scipy.org/doc/numpy/reference/generated/numpy.fv.html\n",
    "## numpy.fv\n",
    "\n",
    "numpy.fv(rate, nper, pmt, pv, when='end')[source]\n",
    "Compute the future value.\n",
    "\n",
    "### Given:\n",
    "a present value, pv\n",
    "an interest rate compounded once per period, of which there are\n",
    "nper total\n",
    "a (fixed) payment, pmt, paid either\n",
    "at the beginning (when = {‘begin’, 1}) or the end (when = {‘end’, 0}) of each period\n",
    "### Return:\n",
    "the value at the end of the nper periods\n",
    "### Parameters:\t\n",
    "rate : scalar or array_like of shape(M, )\n",
    "\n",
    "Rate of interest as decimal (not per cent) per period\n",
    "\n",
    "nper : scalar or array_like of shape(M, )\n",
    "Number of compounding periods\n",
    "\n",
    "pmt : scalar or array_like of shape(M, )\n",
    "Payment\n",
    "\n",
    "pv : scalar or array_like of shape(M, )\n",
    "Present value\n",
    "\n",
    "when : {{‘begin’, 1}, {‘end’, 0}}, {string, int}, optional\n",
    "\n",
    "When payments are due (‘begin’ (1) or ‘end’ (0)). Defaults to {‘end’, 0}.\n",
    "\n",
    "\n",
    "### Returns:\t\n",
    "out : ndarray\n",
    "\n",
    "Future values. If all input is scalar, returns a scalar float. If any input is array_like, returns future values for each input element. If multiple inputs are array_like, they all must have the same shape."
   ]
  },
  {
   "cell_type": "markdown",
   "metadata": {},
   "source": [
    "https://docs.scipy.org/doc/numpy/reference/generated/numpy.pmt.html#numpy.pmt\n",
    "## numpy.pmt\n",
    "\n",
    "numpy.pmt(rate, nper, pv, fv=0, when='end')[source]\n",
    "Compute the payment against loan principal plus interest.\n",
    "\n",
    "### Given:\n",
    "a present value, pv (e.g., an amount borrowed)\n",
    "a future value, fv (e.g., 0)\n",
    "an interest rate compounded once per period, of which there are\n",
    "nper total\n",
    "and (optional) specification of whether payment is made at the beginning (when = {‘begin’, 1}) or the end (when = {‘end’, 0}) of each period\n",
    "\n",
    "### Return:\n",
    "the (fixed) periodic payment.\n",
    "\n",
    "### Parameters:\t\n",
    "rate : array_like\n",
    "Rate of interest (per period)\n",
    "\n",
    "nper : array_like\n",
    "Number of compounding periods\n",
    "\n",
    "pv : array_like\n",
    "Present value\n",
    "\n",
    "fv : array_like, optional\n",
    "Future value (default = 0)\n",
    "\n",
    "when : {{‘begin’, 1}, {‘end’, 0}}, {string, int}\n",
    "When payments are due (‘begin’ (1) or ‘end’ (0))\n",
    "\n",
    "### Returns:\t\n",
    "out : ndarray\n",
    "\n",
    "Payment against loan plus interest. If all input is scalar, returns a scalar float. If any input is array_like, returns payment for each input element. If multiple inputs are array_like, they all must have the same shape."
   ]
  },
  {
   "cell_type": "code",
   "execution_count": 14,
   "metadata": {},
   "outputs": [],
   "source": [
    "def calcMonthly(Interest_Rate, Years, Payments_Year, Principal):\n",
    "    \n",
    "    start_date = date.date(2020,2,1)\n",
    "    \n",
    "    return np.pmt(\n",
    "        w.kwargs['Interest_Rate'] /\n",
    "        w.kwargs['Payments_Year'][0],\n",
    "        w.kwargs['Payments_Year'][0] *\n",
    "        w.kwargs['Years'],\n",
    "        w.kwargs['Principal']\n",
    "    ).round(2)\n",
    "\n",
    "def graph(w):\n",
    "    s = pd.date_range('2020-02-01', periods=w.kwargs['Years']*w.kwargs['Payments_Year'][0], freq=w.kwargs['Payments_Year'][1])\n",
    "    s.name = \"Income Date\"\n",
    "\n",
    "    df = pd.DataFrame(index = s, columns=['Interval Income', 'Total Income','Present Value'], dtype='float')\n",
    "    df.reset_index(inplace=True)\n",
    "    df.index += 1\n",
    "    df.index.name = \"Interval\"\n",
    "    df[\"Interval Income\"] = w.result\n",
    "    df[\"Total Income\"] = df[\"Interval Income\"].cumsum()\n",
    "    \n",
    "    #Create dataframe\n",
    "    for i in range(0, len(df) ):\n",
    "        df.iloc[i, 3] = np.fv(\n",
    "            w.kwargs['Interest_Rate'] /\n",
    "            w.kwargs['Payments_Year'][0],\n",
    "            i + 1,\n",
    "            w.result,\n",
    "            w.kwargs['Principal'] \n",
    "        ).round(2)\n",
    "\n",
    "    fig = plt.figure()\n",
    "    ax1 = plt.axes([0.1,0.1,0.8,0.8])\n",
    "    \n",
    "    ax1.plot(df['Income Date'], df['Present Value'],\n",
    "             label = \"PV of Annunity\")\n",
    "    ax1.plot(df['Income Date'], df['Total Income'],\n",
    "             label = \"Monthly Income PV\")\n",
    "    ax1.set_xlabel(\"Year\")\n",
    "    ax1.set_ylabel(\"Dollars\")\n",
    "    plt.title = \"Title\"\n",
    "\n",
    "    plt.legend()\n",
    "    plt.show()\n",
    "\n",
    "    return  {\n",
    "         \"$/Interval\": \n",
    "             w.result.round(2), \n",
    "         \"$/Year\": (\n",
    "             w.result * \n",
    "             w.kwargs['Payments_Year'][0]).round(2), \n",
    "         \"Interest over Annunity\": (\n",
    "             w.result * \n",
    "             w.kwargs['Payments_Year'][0] *\n",
    "             w.kwargs['Years'] + w.kwargs['Principal']).round(2), \n",
    "         \"FV of Annunity\": (\n",
    "             w.result * \n",
    "             w.kwargs['Payments_Year'][0] *\n",
    "             w.kwargs['Years']).round(2), \n",
    "         \"Interest over Annunity\": (\n",
    "             (w.result * w.kwargs['Payments_Year'][0] *\n",
    "             w.kwargs['Years']) + \n",
    "             w.kwargs['Principal']).round(2), \n",
    "         \"kwargs\" : \n",
    "             w.kwargs\n",
    "            }, df\n",
    "\n",
    "w = interactive(calcMonthly, #{'manual': False},\n",
    "                Interest_Rate = (0.00, 0.15, 0.0050),\n",
    "                Years = (0, 40, 1),\n",
    "                Payments_Year = [\n",
    "                    ('Monthly', [12,'BM']), \n",
    "                    ('Weekly', [52,'W']), \n",
    "                    ('Yearly', [1,'BY'])\n",
    "                ],\n",
    "                Principal = (-1000000, 0, 25000)  # -100000) \n",
    "               )  # w.kwargs"
   ]
  },
  {
   "cell_type": "code",
   "execution_count": 15,
   "metadata": {
    "scrolled": false
   },
   "outputs": [
    {
     "data": {
      "application/vnd.jupyter.widget-view+json": {
       "model_id": "5466028bd59c4ccdb4e1fa4b372776c9",
       "version_major": 2,
       "version_minor": 0
      },
      "text/plain": [
       "interactive(children=(FloatSlider(value=0.075, description='Interest_Rate', max=0.15, step=0.005), IntSlider(v…"
      ]
     },
     "metadata": {},
     "output_type": "display_data"
    }
   ],
   "source": [
    "display(w)"
   ]
  },
  {
   "cell_type": "code",
   "execution_count": 24,
   "metadata": {},
   "outputs": [
    {
     "data": {
      "image/png": "[encoded data removed]",
      "text/plain": [
       "<Figure size 432x288 with 1 Axes>"
      ]
     },
     "metadata": {
      "needs_background": "light"
     },
     "output_type": "display_data"
    }
   ],
   "source": [
    "data = graph(w)"
   ]
  },
  {
   "cell_type": "code",
   "execution_count": 28,
   "metadata": {},
   "outputs": [
    {
     "data": {
      "text/plain": [
       "({'$/Interval': 4027.97,\n",
       "  '$/Year': 48335.64,\n",
       "  'Interest over Annunity': 466712.8,\n",
       "  'FV of Annunity': 966712.8,\n",
       "  'kwargs': {'Interest_Rate': 0.075,\n",
       "   'Years': 20,\n",
       "   'Payments_Year': [12, 'BM'],\n",
       "   'Principal': -500000}},\n",
       "          Income Date  Interval Income  Total Income  Present Value\n",
       " Interval                                                          \n",
       " 1         2020-02-28          4027.97       4027.97      499097.03\n",
       " 2         2020-03-31          4027.97       8055.94      498188.42\n",
       " 3         2020-04-30          4027.97      12083.91      497274.12\n",
       " 4         2020-05-29          4027.97      16111.88      496354.12\n",
       " 5         2020-06-30          4027.97      20139.85      495428.36\n",
       " 6         2020-07-31          4027.97      24167.82      494496.82\n",
       " 7         2020-08-31          4027.97      28195.79      493559.45\n",
       " 8         2020-09-30          4027.97      32223.76      492616.23\n",
       " 9         2020-10-30          4027.97      36251.73      491667.11\n",
       " 10        2020-11-30          4027.97      40279.70      490712.06\n",
       " 11        2020-12-31          4027.97      44307.67      489751.04\n",
       " 12        2021-01-29          4027.97      48335.64      488784.01\n",
       " 13        2021-02-26          4027.97      52363.61      487810.94\n",
       " 14        2021-03-31          4027.97      56391.58      486831.79\n",
       " 15        2021-04-30          4027.97      60419.55      485846.52\n",
       " 16        2021-05-31          4027.97      64447.52      484855.09\n",
       " 17        2021-06-30          4027.97      68475.49      483857.47\n",
       " 18        2021-07-30          4027.97      72503.46      482853.61\n",
       " 19        2021-08-31          4027.97      76531.43      481843.47\n",
       " 20        2021-09-30          4027.97      80559.40      480827.02\n",
       " 21        2021-10-29          4027.97      84587.37      479804.22\n",
       " 22        2021-11-30          4027.97      88615.34      478775.03\n",
       " 23        2021-12-31          4027.97      92643.31      477739.40\n",
       " 24        2022-01-31          4027.97      96671.28      476697.30\n",
       " 25        2022-02-28          4027.97     100699.25      475648.69\n",
       " 26        2022-03-31          4027.97     104727.22      474593.53\n",
       " 27        2022-04-29          4027.97     108755.19      473531.77\n",
       " 28        2022-05-31          4027.97     112783.16      472463.37\n",
       " 29        2022-06-30          4027.97     116811.13      471388.30\n",
       " 30        2022-07-29          4027.97     120839.10      470306.50\n",
       " ...              ...              ...           ...            ...\n",
       " 211       2037-08-31          4027.97     849901.67      106531.52\n",
       " 212       2037-09-30          4027.97     853929.64      103169.38\n",
       " 213       2037-10-30          4027.97     857957.61       99786.21\n",
       " 214       2037-11-30          4027.97     861985.58       96381.91\n",
       " 215       2037-12-31          4027.97     866013.55       92956.33\n",
       " 216       2038-01-29          4027.97     870041.52       89509.33\n",
       " 217       2038-02-26          4027.97     874069.49       86040.80\n",
       " 218       2038-03-31          4027.97     878097.46       82550.58\n",
       " 219       2038-04-30          4027.97     882125.43       79038.55\n",
       " 220       2038-05-31          4027.97     886153.40       75504.57\n",
       " 221       2038-06-30          4027.97     890181.37       71948.51\n",
       " 222       2038-07-30          4027.97     894209.34       68370.21\n",
       " 223       2038-08-31          4027.97     898237.31       64769.56\n",
       " 224       2038-09-30          4027.97     902265.28       61146.40\n",
       " 225       2038-10-29          4027.97     906293.25       57500.59\n",
       " 226       2038-11-30          4027.97     910321.22       53832.00\n",
       " 227       2038-12-31          4027.97     914349.19       50140.48\n",
       " 228       2039-01-31          4027.97     918377.16       46425.89\n",
       " 229       2039-02-28          4027.97     922405.13       42688.08\n",
       " 230       2039-03-31          4027.97     926433.10       38926.91\n",
       " 231       2039-04-29          4027.97     930461.07       35142.23\n",
       " 232       2039-05-31          4027.97     934489.04       31333.90\n",
       " 233       2039-06-30          4027.97     938517.01       27501.77\n",
       " 234       2039-07-29          4027.97     942544.98       23645.69\n",
       " 235       2039-08-31          4027.97     946572.95       19765.50\n",
       " 236       2039-09-30          4027.97     950600.92       15861.07\n",
       " 237       2039-10-31          4027.97     954628.89       11932.23\n",
       " 238       2039-11-30          4027.97     958656.86        7978.83\n",
       " 239       2039-12-30          4027.97     962684.83        4000.73\n",
       " 240       2040-01-31          4027.97     966712.80          -2.23\n",
       " \n",
       " [240 rows x 4 columns])"
      ]
     },
     "execution_count": 28,
     "metadata": {},
     "output_type": "execute_result"
    }
   ],
   "source": [
    "data[0], data[1]"
   ]
  },
  {
   "cell_type": "code",
   "execution_count": null,
   "metadata": {},
   "outputs": [],
   "source": []
  },
  {
   "cell_type": "markdown",
   "metadata": {},
   "source": [
    "### Example code"
   ]
  },
  {
   "cell_type": "code",
   "execution_count": 5,
   "metadata": {},
   "outputs": [
    {
     "data": {
      "application/vnd.jupyter.widget-view+json": {
       "model_id": "108a82b884c7496eabe43ab49f426974",
       "version_major": 2,
       "version_minor": 0
      },
      "text/plain": [
       "interactive(children=(FloatSlider(value=0.0, description='m', max=2.0, min=-2.0), FloatSlider(value=0.0, descr…"
      ]
     },
     "metadata": {},
     "output_type": "display_data"
    }
   ],
   "source": [
    "%matplotlib inline\n",
    "from ipywidgets import interactive\n",
    "import matplotlib.pyplot as plt\n",
    "import numpy as np\n",
    "\n",
    "def f(m, b):\n",
    "    plt.figure(2)\n",
    "    x = np.linspace(-10, 10, num=1000)\n",
    "    plt.plot(x, m * x + b)\n",
    "    plt.ylim(-5, 5)\n",
    "    plt.show()\n",
    "\n",
    "interactive_plot = interactive(f, m=(-2.0, 2.0), b=(-3, 3, 0.5))\n",
    "output = interactive_plot.children[-1]\n",
    "output.layout.height = '350px'\n",
    "interactive_plot"
   ]
  }
 ],
 "metadata": {
  "kernelspec": {
   "display_name": "Python 3",
   "language": "python",
   "name": "python3"
  },
  "language_info": {
   "codemirror_mode": {
    "name": "ipython",
    "version": 3
   },
   "file_extension": ".py",
   "mimetype": "text/x-python",
   "name": "python",
   "nbconvert_exporter": "python",
   "pygments_lexer": "ipython3",
   "version": "3.7.1"
  }
 },
 "nbformat": 4,
 "nbformat_minor": 2
}
