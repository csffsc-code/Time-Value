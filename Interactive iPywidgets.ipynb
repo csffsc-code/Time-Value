{
 "cells": [
  {
   "cell_type": "markdown",
   "metadata": {},
   "source": [
    "[Index](abc.ipynb) - [Back](abc.ipynb) - [Next](abc.ipynb) \n",
    "\n",
    "# Interactively Graph Future Annunity Value"
   ]
  },
  {
   "cell_type": "code",
   "execution_count": null,
   "metadata": {},
   "outputs": [],
   "source": [
    "pip install pandas\n",
    "pip install matplotlib"
   ]
  },
  {
   "cell_type": "code",
   "execution_count": 1,
   "metadata": {},
   "outputs": [],
   "source": [
    "from IPython.display import display\n",
    "from ipywidgets import interact, interactive, fixed, interact_manual\n",
    "import ipywidgets as widgets\n",
    "\n",
    "import pandas as pd\n",
    "import numpy as np\n",
    "import matplotlib.pyplot as plt\n",
    "\n",
    "import datetime as date"
   ]
  },
  {
   "cell_type": "markdown",
   "metadata": {},
   "source": [
    "https://docs.scipy.org/doc/numpy/reference/generated/numpy.fv.html\n",
    "## numpy.fv\n",
    "\n",
    "numpy.fv(rate, nper, pmt, pv, when='end')[source]\n",
    "Compute the future value.\n",
    "\n",
    "### Given:\n",
    "a present value, pv\n",
    "an interest rate compounded once per period, of which there are\n",
    "nper total\n",
    "a (fixed) payment, pmt, paid either\n",
    "at the beginning (when = {‘begin’, 1}) or the end (when = {‘end’, 0}) of each period\n",
    "### Return:\n",
    "the value at the end of the nper periods\n",
    "### Parameters:\t\n",
    "rate : scalar or array_like of shape(M, )\n",
    "\n",
    "Rate of interest as decimal (not per cent) per period\n",
    "\n",
    "nper : scalar or array_like of shape(M, )\n",
    "Number of compounding periods\n",
    "\n",
    "pmt : scalar or array_like of shape(M, )\n",
    "Payment\n",
    "\n",
    "pv : scalar or array_like of shape(M, )\n",
    "Present value\n",
    "\n",
    "when : {{‘begin’, 1}, {‘end’, 0}}, {string, int}, optional\n",
    "\n",
    "When payments are due (‘begin’ (1) or ‘end’ (0)). Defaults to {‘end’, 0}.\n",
    "\n",
    "\n",
    "### Returns:\t\n",
    "out : ndarray\n",
    "\n",
    "Future values. If all input is scalar, returns a scalar float. If any input is array_like, returns future values for each input element. If multiple inputs are array_like, they all must have the same shape."
   ]
  },
  {
   "cell_type": "markdown",
   "metadata": {},
   "source": [
    "https://docs.scipy.org/doc/numpy/reference/generated/numpy.pmt.html#numpy.pmt\n",
    "## numpy.pmt\n",
    "\n",
    "numpy.pmt(rate, nper, pv, fv=0, when='end')[source]\n",
    "Compute the payment against loan principal plus interest.\n",
    "\n",
    "### Given:\n",
    "a present value, pv (e.g., an amount borrowed)\n",
    "a future value, fv (e.g., 0)\n",
    "an interest rate compounded once per period, of which there are\n",
    "nper total\n",
    "and (optional) specification of whether payment is made at the beginning (when = {‘begin’, 1}) or the end (when = {‘end’, 0}) of each period\n",
    "\n",
    "### Return:\n",
    "the (fixed) periodic payment.\n",
    "\n",
    "### Parameters:\t\n",
    "rate : array_like\n",
    "Rate of interest (per period)\n",
    "\n",
    "nper : array_like\n",
    "Number of compounding periods\n",
    "\n",
    "pv : array_like\n",
    "Present value\n",
    "\n",
    "fv : array_like, optional\n",
    "Future value (default = 0)\n",
    "\n",
    "when : {{‘begin’, 1}, {‘end’, 0}}, {string, int}\n",
    "When payments are due (‘begin’ (1) or ‘end’ (0))\n",
    "\n",
    "### Returns:\t\n",
    "out : ndarray\n",
    "\n",
    "Payment against loan plus interest. If all input is scalar, returns a scalar float. If any input is array_like, returns payment for each input element. If multiple inputs are array_like, they all must have the same shape."
   ]
  },
  {
   "cell_type": "code",
   "execution_count": 35,
   "metadata": {},
   "outputs": [],
   "source": [
    "def calcMonthly(Interest_Rate, Years, Payments_Year, Principal):\n",
    "    \n",
    "    start_date = date.date(2020,2,1)\n",
    "    \n",
    "    return np.pmt(\n",
    "        w.kwargs['Interest_Rate'] /\n",
    "        w.kwargs['Payments_Year'][0],\n",
    "        w.kwargs['Payments_Year'][0] *\n",
    "        w.kwargs['Years'],\n",
    "        w.kwargs['Principal']\n",
    "    ).round(2)\n",
    "\n",
    "def graph(w):\n",
    "    s = pd.date_range('2020-02-01', periods=w.kwargs['Years']*w.kwargs['Payments_Year'][0], freq=w.kwargs['Payments_Year'][1])\n",
    "    s.name = \"Income Date\"\n",
    "\n",
    "    df = pd.DataFrame(index = s, columns=['Interval Income', 'Total Income','PV of Annunity'], dtype='float')\n",
    "    df.reset_index(inplace=True)\n",
    "    df.index += 1\n",
    "    df.index.name = \"Interval\"\n",
    "    df[\"Interval Income\"] = w.result\n",
    "    df[\"Total Income\"] = df[\"Interval Income\"].cumsum()\n",
    "    \n",
    "    #Create dataframe\n",
    "    for i in range(0, len(df) ):\n",
    "        df.iloc[i, 3] = np.fv(\n",
    "            w.kwargs['Interest_Rate'] /\n",
    "            w.kwargs['Payments_Year'][0],\n",
    "            i + 1,\n",
    "            w.result,\n",
    "            w.kwargs['Principal'] \n",
    "        ).round(2)\n",
    "\n",
    "    fig = plt.figure()\n",
    "    ax1 = plt.axes([0.1,0.1,0.8,0.8])\n",
    "    \n",
    "    ax1.plot(df['Income Date'], df['PV of Annunity'],\n",
    "             label = \"PV of Annunity\")\n",
    "    ax1.plot(df['Income Date'], df['Total Income'],\n",
    "             label = \"Monthly Income PV\")\n",
    "    ax1.set_xlabel(\"Year\")\n",
    "    ax1.set_ylabel(\"Dollars\")\n",
    "    plt.title = \"Title\"\n",
    "\n",
    "    plt.legend()\n",
    "    plt.show()\n",
    "\n",
    "    return  {\n",
    "         \"$/Interval\": \n",
    "             w.result.round(2), \n",
    "         \"$/Year\": (\n",
    "             w.result * \n",
    "             w.kwargs['Payments_Year'][0]).round(2), \n",
    "         \"Interest over Annunity\": (\n",
    "             w.result * \n",
    "             w.kwargs['Payments_Year'][0] *\n",
    "             w.kwargs['Years'] + w.kwargs['Principal']).round(2), \n",
    "         \"FV of Annunity\": (\n",
    "             w.result * \n",
    "             w.kwargs['Payments_Year'][0] *\n",
    "             w.kwargs['Years']).round(2), \n",
    "         \"Interest over Annunity\": (\n",
    "             (w.result * w.kwargs['Payments_Year'][0] *\n",
    "             w.kwargs['Years']) + \n",
    "             w.kwargs['Principal']).round(2), \n",
    "         \"kwargs\" : \n",
    "             w.kwargs\n",
    "            }, df\n",
    "\n",
    "w = interactive(calcMonthly, #{'manual': False},\n",
    "                Interest_Rate = (0.00, 0.15, 0.0050),\n",
    "                Years = (0, 40, 1),\n",
    "                Payments_Year = [\n",
    "                    ('Monthly', [12,'BM']), \n",
    "                    ('Weekly', [52,'W']), \n",
    "                    ('Yearly', [1,'BY'])\n",
    "                ],\n",
    "                Principal = (-1000000, 0, 25000)  # -100000) \n",
    "               )  # w.kwargs"
   ]
  },
  {
   "cell_type": "code",
   "execution_count": 36,
   "metadata": {
    "scrolled": false
   },
   "outputs": [
    {
     "data": {
      "application/vnd.jupyter.widget-view+json": {
       "model_id": "a50a30f4094c4b70b1526b4becfc36ef",
       "version_major": 2,
       "version_minor": 0
      },
      "text/plain": [
       "interactive(children=(FloatSlider(value=0.075, description='Interest_Rate', max=0.15, step=0.005), IntSlider(v…"
      ]
     },
     "metadata": {},
     "output_type": "display_data"
    }
   ],
   "source": [
    "display(w)"
   ]
  },
  {
   "cell_type": "code",
   "execution_count": 34,
   "metadata": {},
   "outputs": [
    {
     "ename": "KeyError",
     "evalue": "'Present Value'",
     "output_type": "error",
     "traceback": [
      "\u001b[0;31m---------------------------------------------------------------------------\u001b[0m",
      "\u001b[0;31mKeyError\u001b[0m                                  Traceback (most recent call last)",
      "\u001b[0;32m/anaconda3/lib/python3.7/site-packages/pandas/core/indexes/base.py\u001b[0m in \u001b[0;36mget_loc\u001b[0;34m(self, key, method, tolerance)\u001b[0m\n\u001b[1;32m   3077\u001b[0m             \u001b[0;32mtry\u001b[0m\u001b[0;34m:\u001b[0m\u001b[0;34m\u001b[0m\u001b[0;34m\u001b[0m\u001b[0m\n\u001b[0;32m-> 3078\u001b[0;31m                 \u001b[0;32mreturn\u001b[0m \u001b[0mself\u001b[0m\u001b[0;34m.\u001b[0m\u001b[0m_engine\u001b[0m\u001b[0;34m.\u001b[0m\u001b[0mget_loc\u001b[0m\u001b[0;34m(\u001b[0m\u001b[0mkey\u001b[0m\u001b[0;34m)\u001b[0m\u001b[0;34m\u001b[0m\u001b[0;34m\u001b[0m\u001b[0m\n\u001b[0m\u001b[1;32m   3079\u001b[0m             \u001b[0;32mexcept\u001b[0m \u001b[0mKeyError\u001b[0m\u001b[0;34m:\u001b[0m\u001b[0;34m\u001b[0m\u001b[0;34m\u001b[0m\u001b[0m\n",
      "\u001b[0;32mpandas/_libs/index.pyx\u001b[0m in \u001b[0;36mpandas._libs.index.IndexEngine.get_loc\u001b[0;34m()\u001b[0m\n",
      "\u001b[0;32mpandas/_libs/index.pyx\u001b[0m in \u001b[0;36mpandas._libs.index.IndexEngine.get_loc\u001b[0;34m()\u001b[0m\n",
      "\u001b[0;32mpandas/_libs/hashtable_class_helper.pxi\u001b[0m in \u001b[0;36mpandas._libs.hashtable.PyObjectHashTable.get_item\u001b[0;34m()\u001b[0m\n",
      "\u001b[0;32mpandas/_libs/hashtable_class_helper.pxi\u001b[0m in \u001b[0;36mpandas._libs.hashtable.PyObjectHashTable.get_item\u001b[0;34m()\u001b[0m\n",
      "\u001b[0;31mKeyError\u001b[0m: 'Present Value'",
      "\nDuring handling of the above exception, another exception occurred:\n",
      "\u001b[0;31mKeyError\u001b[0m                                  Traceback (most recent call last)",
      "\u001b[0;32m<ipython-input-34-b54fdec7bd3c>\u001b[0m in \u001b[0;36m<module>\u001b[0;34m\u001b[0m\n\u001b[0;32m----> 1\u001b[0;31m \u001b[0mdata\u001b[0m \u001b[0;34m=\u001b[0m \u001b[0mgraph\u001b[0m\u001b[0;34m(\u001b[0m\u001b[0mw\u001b[0m\u001b[0;34m)\u001b[0m\u001b[0;34m\u001b[0m\u001b[0;34m\u001b[0m\u001b[0m\n\u001b[0m",
      "\u001b[0;32m<ipython-input-32-d7d29dd4b2f4>\u001b[0m in \u001b[0;36mgraph\u001b[0;34m(w)\u001b[0m\n\u001b[1;32m     35\u001b[0m     \u001b[0max1\u001b[0m \u001b[0;34m=\u001b[0m \u001b[0mplt\u001b[0m\u001b[0;34m.\u001b[0m\u001b[0maxes\u001b[0m\u001b[0;34m(\u001b[0m\u001b[0;34m[\u001b[0m\u001b[0;36m0.1\u001b[0m\u001b[0;34m,\u001b[0m\u001b[0;36m0.1\u001b[0m\u001b[0;34m,\u001b[0m\u001b[0;36m0.8\u001b[0m\u001b[0;34m,\u001b[0m\u001b[0;36m0.8\u001b[0m\u001b[0;34m]\u001b[0m\u001b[0;34m)\u001b[0m\u001b[0;34m\u001b[0m\u001b[0;34m\u001b[0m\u001b[0m\n\u001b[1;32m     36\u001b[0m \u001b[0;34m\u001b[0m\u001b[0m\n\u001b[0;32m---> 37\u001b[0;31m     ax1.plot(df['Income Date'], df['Present Value'],\n\u001b[0m\u001b[1;32m     38\u001b[0m              label = \"PV of Annunity\")\n\u001b[1;32m     39\u001b[0m     ax1.plot(df['Income Date'], df['Total Income'],\n",
      "\u001b[0;32m/anaconda3/lib/python3.7/site-packages/pandas/core/frame.py\u001b[0m in \u001b[0;36m__getitem__\u001b[0;34m(self, key)\u001b[0m\n\u001b[1;32m   2686\u001b[0m             \u001b[0;32mreturn\u001b[0m \u001b[0mself\u001b[0m\u001b[0;34m.\u001b[0m\u001b[0m_getitem_multilevel\u001b[0m\u001b[0;34m(\u001b[0m\u001b[0mkey\u001b[0m\u001b[0;34m)\u001b[0m\u001b[0;34m\u001b[0m\u001b[0;34m\u001b[0m\u001b[0m\n\u001b[1;32m   2687\u001b[0m         \u001b[0;32melse\u001b[0m\u001b[0;34m:\u001b[0m\u001b[0;34m\u001b[0m\u001b[0;34m\u001b[0m\u001b[0m\n\u001b[0;32m-> 2688\u001b[0;31m             \u001b[0;32mreturn\u001b[0m \u001b[0mself\u001b[0m\u001b[0;34m.\u001b[0m\u001b[0m_getitem_column\u001b[0m\u001b[0;34m(\u001b[0m\u001b[0mkey\u001b[0m\u001b[0;34m)\u001b[0m\u001b[0;34m\u001b[0m\u001b[0;34m\u001b[0m\u001b[0m\n\u001b[0m\u001b[1;32m   2689\u001b[0m \u001b[0;34m\u001b[0m\u001b[0m\n\u001b[1;32m   2690\u001b[0m     \u001b[0;32mdef\u001b[0m \u001b[0m_getitem_column\u001b[0m\u001b[0;34m(\u001b[0m\u001b[0mself\u001b[0m\u001b[0;34m,\u001b[0m \u001b[0mkey\u001b[0m\u001b[0;34m)\u001b[0m\u001b[0;34m:\u001b[0m\u001b[0;34m\u001b[0m\u001b[0;34m\u001b[0m\u001b[0m\n",
      "\u001b[0;32m/anaconda3/lib/python3.7/site-packages/pandas/core/frame.py\u001b[0m in \u001b[0;36m_getitem_column\u001b[0;34m(self, key)\u001b[0m\n\u001b[1;32m   2693\u001b[0m         \u001b[0;31m# get column\u001b[0m\u001b[0;34m\u001b[0m\u001b[0;34m\u001b[0m\u001b[0;34m\u001b[0m\u001b[0m\n\u001b[1;32m   2694\u001b[0m         \u001b[0;32mif\u001b[0m \u001b[0mself\u001b[0m\u001b[0;34m.\u001b[0m\u001b[0mcolumns\u001b[0m\u001b[0;34m.\u001b[0m\u001b[0mis_unique\u001b[0m\u001b[0;34m:\u001b[0m\u001b[0;34m\u001b[0m\u001b[0;34m\u001b[0m\u001b[0m\n\u001b[0;32m-> 2695\u001b[0;31m             \u001b[0;32mreturn\u001b[0m \u001b[0mself\u001b[0m\u001b[0;34m.\u001b[0m\u001b[0m_get_item_cache\u001b[0m\u001b[0;34m(\u001b[0m\u001b[0mkey\u001b[0m\u001b[0;34m)\u001b[0m\u001b[0;34m\u001b[0m\u001b[0;34m\u001b[0m\u001b[0m\n\u001b[0m\u001b[1;32m   2696\u001b[0m \u001b[0;34m\u001b[0m\u001b[0m\n\u001b[1;32m   2697\u001b[0m         \u001b[0;31m# duplicate columns & possible reduce dimensionality\u001b[0m\u001b[0;34m\u001b[0m\u001b[0;34m\u001b[0m\u001b[0;34m\u001b[0m\u001b[0m\n",
      "\u001b[0;32m/anaconda3/lib/python3.7/site-packages/pandas/core/generic.py\u001b[0m in \u001b[0;36m_get_item_cache\u001b[0;34m(self, item)\u001b[0m\n\u001b[1;32m   2487\u001b[0m         \u001b[0mres\u001b[0m \u001b[0;34m=\u001b[0m \u001b[0mcache\u001b[0m\u001b[0;34m.\u001b[0m\u001b[0mget\u001b[0m\u001b[0;34m(\u001b[0m\u001b[0mitem\u001b[0m\u001b[0;34m)\u001b[0m\u001b[0;34m\u001b[0m\u001b[0;34m\u001b[0m\u001b[0m\n\u001b[1;32m   2488\u001b[0m         \u001b[0;32mif\u001b[0m \u001b[0mres\u001b[0m \u001b[0;32mis\u001b[0m \u001b[0;32mNone\u001b[0m\u001b[0;34m:\u001b[0m\u001b[0;34m\u001b[0m\u001b[0;34m\u001b[0m\u001b[0m\n\u001b[0;32m-> 2489\u001b[0;31m             \u001b[0mvalues\u001b[0m \u001b[0;34m=\u001b[0m \u001b[0mself\u001b[0m\u001b[0;34m.\u001b[0m\u001b[0m_data\u001b[0m\u001b[0;34m.\u001b[0m\u001b[0mget\u001b[0m\u001b[0;34m(\u001b[0m\u001b[0mitem\u001b[0m\u001b[0;34m)\u001b[0m\u001b[0;34m\u001b[0m\u001b[0;34m\u001b[0m\u001b[0m\n\u001b[0m\u001b[1;32m   2490\u001b[0m             \u001b[0mres\u001b[0m \u001b[0;34m=\u001b[0m \u001b[0mself\u001b[0m\u001b[0;34m.\u001b[0m\u001b[0m_box_item_values\u001b[0m\u001b[0;34m(\u001b[0m\u001b[0mitem\u001b[0m\u001b[0;34m,\u001b[0m \u001b[0mvalues\u001b[0m\u001b[0;34m)\u001b[0m\u001b[0;34m\u001b[0m\u001b[0;34m\u001b[0m\u001b[0m\n\u001b[1;32m   2491\u001b[0m             \u001b[0mcache\u001b[0m\u001b[0;34m[\u001b[0m\u001b[0mitem\u001b[0m\u001b[0;34m]\u001b[0m \u001b[0;34m=\u001b[0m \u001b[0mres\u001b[0m\u001b[0;34m\u001b[0m\u001b[0;34m\u001b[0m\u001b[0m\n",
      "\u001b[0;32m/anaconda3/lib/python3.7/site-packages/pandas/core/internals.py\u001b[0m in \u001b[0;36mget\u001b[0;34m(self, item, fastpath)\u001b[0m\n\u001b[1;32m   4113\u001b[0m \u001b[0;34m\u001b[0m\u001b[0m\n\u001b[1;32m   4114\u001b[0m             \u001b[0;32mif\u001b[0m \u001b[0;32mnot\u001b[0m \u001b[0misna\u001b[0m\u001b[0;34m(\u001b[0m\u001b[0mitem\u001b[0m\u001b[0;34m)\u001b[0m\u001b[0;34m:\u001b[0m\u001b[0;34m\u001b[0m\u001b[0;34m\u001b[0m\u001b[0m\n\u001b[0;32m-> 4115\u001b[0;31m                 \u001b[0mloc\u001b[0m \u001b[0;34m=\u001b[0m \u001b[0mself\u001b[0m\u001b[0;34m.\u001b[0m\u001b[0mitems\u001b[0m\u001b[0;34m.\u001b[0m\u001b[0mget_loc\u001b[0m\u001b[0;34m(\u001b[0m\u001b[0mitem\u001b[0m\u001b[0;34m)\u001b[0m\u001b[0;34m\u001b[0m\u001b[0;34m\u001b[0m\u001b[0m\n\u001b[0m\u001b[1;32m   4116\u001b[0m             \u001b[0;32melse\u001b[0m\u001b[0;34m:\u001b[0m\u001b[0;34m\u001b[0m\u001b[0;34m\u001b[0m\u001b[0m\n\u001b[1;32m   4117\u001b[0m                 \u001b[0mindexer\u001b[0m \u001b[0;34m=\u001b[0m \u001b[0mnp\u001b[0m\u001b[0;34m.\u001b[0m\u001b[0marange\u001b[0m\u001b[0;34m(\u001b[0m\u001b[0mlen\u001b[0m\u001b[0;34m(\u001b[0m\u001b[0mself\u001b[0m\u001b[0;34m.\u001b[0m\u001b[0mitems\u001b[0m\u001b[0;34m)\u001b[0m\u001b[0;34m)\u001b[0m\u001b[0;34m[\u001b[0m\u001b[0misna\u001b[0m\u001b[0;34m(\u001b[0m\u001b[0mself\u001b[0m\u001b[0;34m.\u001b[0m\u001b[0mitems\u001b[0m\u001b[0;34m)\u001b[0m\u001b[0;34m]\u001b[0m\u001b[0;34m\u001b[0m\u001b[0;34m\u001b[0m\u001b[0m\n",
      "\u001b[0;32m/anaconda3/lib/python3.7/site-packages/pandas/core/indexes/base.py\u001b[0m in \u001b[0;36mget_loc\u001b[0;34m(self, key, method, tolerance)\u001b[0m\n\u001b[1;32m   3078\u001b[0m                 \u001b[0;32mreturn\u001b[0m \u001b[0mself\u001b[0m\u001b[0;34m.\u001b[0m\u001b[0m_engine\u001b[0m\u001b[0;34m.\u001b[0m\u001b[0mget_loc\u001b[0m\u001b[0;34m(\u001b[0m\u001b[0mkey\u001b[0m\u001b[0;34m)\u001b[0m\u001b[0;34m\u001b[0m\u001b[0;34m\u001b[0m\u001b[0m\n\u001b[1;32m   3079\u001b[0m             \u001b[0;32mexcept\u001b[0m \u001b[0mKeyError\u001b[0m\u001b[0;34m:\u001b[0m\u001b[0;34m\u001b[0m\u001b[0;34m\u001b[0m\u001b[0m\n\u001b[0;32m-> 3080\u001b[0;31m                 \u001b[0;32mreturn\u001b[0m \u001b[0mself\u001b[0m\u001b[0;34m.\u001b[0m\u001b[0m_engine\u001b[0m\u001b[0;34m.\u001b[0m\u001b[0mget_loc\u001b[0m\u001b[0;34m(\u001b[0m\u001b[0mself\u001b[0m\u001b[0;34m.\u001b[0m\u001b[0m_maybe_cast_indexer\u001b[0m\u001b[0;34m(\u001b[0m\u001b[0mkey\u001b[0m\u001b[0;34m)\u001b[0m\u001b[0;34m)\u001b[0m\u001b[0;34m\u001b[0m\u001b[0;34m\u001b[0m\u001b[0m\n\u001b[0m\u001b[1;32m   3081\u001b[0m \u001b[0;34m\u001b[0m\u001b[0m\n\u001b[1;32m   3082\u001b[0m         \u001b[0mindexer\u001b[0m \u001b[0;34m=\u001b[0m \u001b[0mself\u001b[0m\u001b[0;34m.\u001b[0m\u001b[0mget_indexer\u001b[0m\u001b[0;34m(\u001b[0m\u001b[0;34m[\u001b[0m\u001b[0mkey\u001b[0m\u001b[0;34m]\u001b[0m\u001b[0;34m,\u001b[0m \u001b[0mmethod\u001b[0m\u001b[0;34m=\u001b[0m\u001b[0mmethod\u001b[0m\u001b[0;34m,\u001b[0m \u001b[0mtolerance\u001b[0m\u001b[0;34m=\u001b[0m\u001b[0mtolerance\u001b[0m\u001b[0;34m)\u001b[0m\u001b[0;34m\u001b[0m\u001b[0;34m\u001b[0m\u001b[0m\n",
      "\u001b[0;32mpandas/_libs/index.pyx\u001b[0m in \u001b[0;36mpandas._libs.index.IndexEngine.get_loc\u001b[0;34m()\u001b[0m\n",
      "\u001b[0;32mpandas/_libs/index.pyx\u001b[0m in \u001b[0;36mpandas._libs.index.IndexEngine.get_loc\u001b[0;34m()\u001b[0m\n",
      "\u001b[0;32mpandas/_libs/hashtable_class_helper.pxi\u001b[0m in \u001b[0;36mpandas._libs.hashtable.PyObjectHashTable.get_item\u001b[0;34m()\u001b[0m\n",
      "\u001b[0;32mpandas/_libs/hashtable_class_helper.pxi\u001b[0m in \u001b[0;36mpandas._libs.hashtable.PyObjectHashTable.get_item\u001b[0;34m()\u001b[0m\n",
      "\u001b[0;31mKeyError\u001b[0m: 'Present Value'"
     ]
    },
    {
     "data": {
      "image/png": "[encoded data removed]",
      "text/plain": [
       "<Figure size 432x288 with 1 Axes>"
      ]
     },
     "metadata": {
      "needs_background": "light"
     },
     "output_type": "display_data"
    }
   ],
   "source": [
    "data = graph(w)"
   ]
  },
  {
   "cell_type": "code",
   "execution_count": 31,
   "metadata": {},
   "outputs": [
    {
     "data": {
      "text/plain": [
       "({'$/Interval': 6292.93,\n",
       "  '$/Year': 75515.16,\n",
       "  'Interest over Annunity': 1365454.8,\n",
       "  'FV of Annunity': 2265454.8,\n",
       "  'kwargs': {'Interest_Rate': 0.075,\n",
       "   'Years': 30,\n",
       "   'Payments_Year': [12, 'BM'],\n",
       "   'Principal': -900000}},\n",
       "          Income Date  Interval Income  Total Income  Present Value\n",
       " Interval                                                          \n",
       " 1         2020-02-28          6292.93       6292.93      899332.07\n",
       " 2         2020-03-31          6292.93      12585.86      898659.97\n",
       " 3         2020-04-30          6292.93      18878.79      897983.66\n",
       " 4         2020-05-29          6292.93      25171.72      897303.13\n",
       " 5         2020-06-30          6292.93      31464.65      896618.34\n",
       " 6         2020-07-31          6292.93      37757.58      895929.28\n",
       " 7         2020-08-31          6292.93      44050.51      895235.91\n",
       " 8         2020-09-30          6292.93      50343.44      894538.20\n",
       " 9         2020-10-30          6292.93      56636.37      893836.13\n",
       " 10        2020-11-30          6292.93      62929.30      893129.68\n",
       " 11        2020-12-31          6292.93      69222.23      892418.81\n",
       " 12        2021-01-29          6292.93      75515.16      891703.50\n",
       " 13        2021-02-26          6292.93      81808.09      890983.71\n",
       " 14        2021-03-31          6292.93      88101.02      890259.43\n",
       " 15        2021-04-30          6292.93      94393.95      889530.62\n",
       " 16        2021-05-31          6292.93     100686.88      888797.26\n",
       " 17        2021-06-30          6292.93     106979.81      888059.31\n",
       " 18        2021-07-30          6292.93     113272.74      887316.75\n",
       " 19        2021-08-31          6292.93     119565.67      886569.55\n",
       " 20        2021-09-30          6292.93     125858.60      885817.68\n",
       " 21        2021-10-29          6292.93     132151.53      885061.11\n",
       " 22        2021-11-30          6292.93     138444.46      884299.82\n",
       " 23        2021-12-31          6292.93     144737.39      883533.76\n",
       " 24        2022-01-31          6292.93     151030.32      882762.92\n",
       " 25        2022-02-28          6292.93     157323.25      881987.25\n",
       " 26        2022-03-31          6292.93     163616.18      881206.74\n",
       " 27        2022-04-29          6292.93     169909.11      880421.36\n",
       " 28        2022-05-31          6292.93     176202.04      879631.06\n",
       " 29        2022-06-30          6292.93     182494.97      878835.82\n",
       " 30        2022-07-29          6292.93     188787.90      878035.62\n",
       " ...              ...              ...           ...            ...\n",
       " 331       2047-08-30          6292.93    2082959.83      166438.62\n",
       " 332       2047-09-30          6292.93    2089252.76      161185.93\n",
       " 333       2047-10-31          6292.93    2095545.69      155900.41\n",
       " 334       2047-11-29          6292.93    2101838.62      150581.86\n",
       " 335       2047-12-31          6292.93    2108131.55      145230.07\n",
       " 336       2048-01-31          6292.93    2114424.48      139844.82\n",
       " 337       2048-02-28          6292.93    2120717.41      134425.92\n",
       " 338       2048-03-31          6292.93    2127010.34      128973.16\n",
       " 339       2048-04-30          6292.93    2133303.27      123486.31\n",
       " 340       2048-05-29          6292.93    2139596.20      117965.17\n",
       " 341       2048-06-30          6292.93    2145889.13      112409.52\n",
       " 342       2048-07-31          6292.93    2152182.06      106819.15\n",
       " 343       2048-08-31          6292.93    2158474.99      101193.84\n",
       " 344       2048-09-30          6292.93    2164767.92       95533.37\n",
       " 345       2048-10-30          6292.93    2171060.85       89837.52\n",
       " 346       2048-11-30          6292.93    2177353.78       84106.08\n",
       " 347       2048-12-31          6292.93    2183646.71       78338.81\n",
       " 348       2049-01-29          6292.93    2189939.64       72535.50\n",
       " 349       2049-02-26          6292.93    2196232.57       66695.92\n",
       " 350       2049-03-31          6292.93    2202525.50       60819.84\n",
       " 351       2049-04-30          6292.93    2208818.43       54907.03\n",
       " 352       2049-05-31          6292.93    2215111.36       48957.27\n",
       " 353       2049-06-30          6292.93    2221404.29       42970.32\n",
       " 354       2049-07-30          6292.93    2227697.22       36945.96\n",
       " 355       2049-08-31          6292.93    2233990.15       30883.94\n",
       " 356       2049-09-30          6292.93    2240283.08       24784.03\n",
       " 357       2049-10-29          6292.93    2246576.01       18646.00\n",
       " 358       2049-11-30          6292.93    2252868.94       12469.61\n",
       " 359       2049-12-31          6292.93    2259161.87        6254.62\n",
       " 360       2050-01-31          6292.93    2265454.80           0.78\n",
       " \n",
       " [360 rows x 4 columns])"
      ]
     },
     "execution_count": 31,
     "metadata": {},
     "output_type": "execute_result"
    }
   ],
   "source": [
    "data[0], data[1]"
   ]
  },
  {
   "cell_type": "code",
   "execution_count": null,
   "metadata": {},
   "outputs": [],
   "source": []
  },
  {
   "cell_type": "markdown",
   "metadata": {},
   "source": [
    "### Example code"
   ]
  },
  {
   "cell_type": "code",
   "execution_count": 5,
   "metadata": {},
   "outputs": [
    {
     "data": {
      "application/vnd.jupyter.widget-view+json": {
       "model_id": "108a82b884c7496eabe43ab49f426974",
       "version_major": 2,
       "version_minor": 0
      },
      "text/plain": [
       "interactive(children=(FloatSlider(value=0.0, description='m', max=2.0, min=-2.0), FloatSlider(value=0.0, descr…"
      ]
     },
     "metadata": {},
     "output_type": "display_data"
    }
   ],
   "source": [
    "%matplotlib inline\n",
    "from ipywidgets import interactive\n",
    "import matplotlib.pyplot as plt\n",
    "import numpy as np\n",
    "\n",
    "def f(m, b):\n",
    "    plt.figure(2)\n",
    "    x = np.linspace(-10, 10, num=1000)\n",
    "    plt.plot(x, m * x + b)\n",
    "    plt.ylim(-5, 5)\n",
    "    plt.show()\n",
    "\n",
    "interactive_plot = interactive(f, m=(-2.0, 2.0), b=(-3, 3, 0.5))\n",
    "output = interactive_plot.children[-1]\n",
    "output.layout.height = '350px'\n",
    "interactive_plot"
   ]
  }
 ],
 "metadata": {
  "kernelspec": {
   "display_name": "Python 3",
   "language": "python",
   "name": "python3"
  },
  "language_info": {
   "codemirror_mode": {
    "name": "ipython",
    "version": 3
   },
   "file_extension": ".py",
   "mimetype": "text/x-python",
   "name": "python",
   "nbconvert_exporter": "python",
   "pygments_lexer": "ipython3",
   "version": "3.7.1"
  }
 },
 "nbformat": 4,
 "nbformat_minor": 2
}
